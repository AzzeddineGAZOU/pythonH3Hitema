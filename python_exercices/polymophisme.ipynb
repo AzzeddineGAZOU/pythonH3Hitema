{
 "cells": [
  {
   "cell_type": "code",
   "execution_count": 16,
   "metadata": {},
   "outputs": [],
   "source": [
    "class Courrier:\n",
    "\n",
    "    def __init__(self, dest, exp, poid, mode):\n",
    "        self.dest = dest\n",
    "        self.exp = exp\n",
    "        self.poid = poid\n",
    "        self.mode = mode\n",
    "\n",
    "    def ToString(self):\n",
    "        print('Adresse destinataire: ', self.dest, 'Adresse expeditaire: ', self.exp, 'Poid: ', self.poid, 'grammes', 'Mode: ', self.mode)"
   ]
  },
  {
   "cell_type": "code",
   "execution_count": 17,
   "metadata": {},
   "outputs": [],
   "source": [
    "class Lettre(Courrier):\n",
    "\n",
    "    def __init__(self, dest, exp, poid, mode, format):\n",
    "        Courrier.__init__(self, dest, exp, poid, mode)\n",
    "        self.format = format\n",
    "\n",
    "    def calculateTimber(self):\n",
    "        if self.format == 'A4': cost = 2.50\n",
    "        if self.format == 'A3': cost = 3.50\n",
    "        montant = cost * self.poid / 1000\n",
    "        if self.mode == 'Express': montant * 2\n",
    "        return montant\n",
    "\n",
    "    def ToString(self):\n",
    "        print('Lettre:')\n",
    "        Courrier.ToString(self)\n",
    "        print('Format: ', self.format, 'Prix du timbre: ', self.calculateTimber())"
   ]
  },
  {
   "cell_type": "code",
   "execution_count": 18,
   "metadata": {},
   "outputs": [],
   "source": [
    "class Colis(Courrier):\n",
    "\n",
    "    def __init__(self, dest, exp, poid, mode, volume):\n",
    "        Courrier.__init__(self, dest, exp, poid, mode)\n",
    "        self.volume = volume\n",
    "\n",
    "    def calculTimbre(self):\n",
    "        price = 0.25 * self.volume * self.poid / 1000\n",
    "        if self.mode == 'Express': price = price * 2\n",
    "        return price\n",
    "\n",
    "    def ToString(self):\n",
    "        print('Colis:')\n",
    "        Courrier.ToString(self)\n",
    "        print('Volume: ', self.volume, 'litres', 'Prix du timbre: ', self.calculTimbre())"
   ]
  },
  {
   "cell_type": "code",
   "execution_count": 19,
   "metadata": {
    "scrolled": true
   },
   "outputs": [
    {
     "name": "stdout",
     "output_type": "stream",
     "text": [
      "Lettre:\n",
      "('Adresse destinataire: ', 'Lyon', 'Adresse expeditaire: ', 'Marseille', 'Poid: ', 100, 'grammes', 'Mode: ', 'Normal')\n",
      "('Format: ', 'A4', 'Prix du timbre: ', 0.25)\n",
      "Colis:\n",
      "('Adresse destinataire: ', 'Madrid', 'Adresse expeditaire: ', 'Lyon', 'Poid: ', 1500, 'grammes', 'Mode: ', 'Express')\n",
      "('Volume: ', 3, 'litres', 'Prix du timbre: ', 2.25)\n"
     ]
    }
   ],
   "source": [
    "L1 = Lettre('Lyon', 'Marseille', 100, 'Normal', 'A4')\n",
    "L1.ToString()\n",
    "C1 = Colis('Madrid', 'Lyon', 1500, 'Express', 3)\n",
    "C1.ToString()"
   ]
  },
  {
   "cell_type": "code",
   "execution_count": null,
   "metadata": {},
   "outputs": [],
   "source": []
  }
 ],
 "metadata": {
  "kernelspec": {
   "display_name": "Python 2",
   "language": "python",
   "name": "python2"
  },
  "language_info": {
   "codemirror_mode": {
    "name": "ipython",
    "version": 2
   },
   "file_extension": ".py",
   "mimetype": "text/x-python",
   "name": "python",
   "nbconvert_exporter": "python",
   "pygments_lexer": "ipython2",
   "version": "2.7.17"
  }
 },
 "nbformat": 4,
 "nbformat_minor": 2
}

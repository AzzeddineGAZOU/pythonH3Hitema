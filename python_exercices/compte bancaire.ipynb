{
 "cells": [
  {
   "cell_type": "code",
   "execution_count": 3,
   "metadata": {},
   "outputs": [],
   "source": [
    "class CompteBancaire:\n",
    "\n",
    "    def __init__(self, name='Dupont', solde=1000):\n",
    "        self.name = name\n",
    "        self.solde = solde\n",
    "\n",
    "    def depot(self, somme):\n",
    "        self.solde += somme\n",
    "\n",
    "    def retrait(self, somme):\n",
    "        self.solde -= somme\n",
    "\n",
    "    def affiche(self):\n",
    "        print('Le solde du compte de ', self.name, ' est de ', self.solde)"
   ]
  },
  {
   "cell_type": "code",
   "execution_count": 4,
   "metadata": {},
   "outputs": [
    {
     "name": "stdout",
     "output_type": "stream",
     "text": [
      "('Le solde du compte de ', 'GAZOU', ' est de ', 1098500)\n"
     ]
    }
   ],
   "source": [
    "compte1 = CompteBancaire('GAZOU', 1000000);\n",
    "compte1.depot(100000);\n",
    "compte1.retrait(1500);\n",
    "compte1.affiche();"
   ]
  },
  {
   "cell_type": "code",
   "execution_count": null,
   "metadata": {},
   "outputs": [],
   "source": []
  }
 ],
 "metadata": {
  "kernelspec": {
   "display_name": "Python 2",
   "language": "python",
   "name": "python2"
  },
  "language_info": {
   "codemirror_mode": {
    "name": "ipython",
    "version": 2
   },
   "file_extension": ".py",
   "mimetype": "text/x-python",
   "name": "python",
   "nbconvert_exporter": "python",
   "pygments_lexer": "ipython2",
   "version": "2.7.17"
  }
 },
 "nbformat": 4,
 "nbformat_minor": 2
}

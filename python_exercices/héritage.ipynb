{
 "cells": [
  {
   "cell_type": "code",
   "execution_count": 25,
   "metadata": {},
   "outputs": [],
   "source": [
    "class DateDeNaissance:\n",
    "\n",
    "    def __init__(self, jour, mois, annee):\n",
    "        self.jour = jour\n",
    "        self.mois = mois\n",
    "        self.annee = annee\n",
    "\n",
    "    def ToString(self):\n",
    "        return '%02d / %02d / %d' %(self.jour, self.mois, self.annee)"
   ]
  },
  {
   "cell_type": "code",
   "execution_count": 26,
   "metadata": {},
   "outputs": [],
   "source": [
    "class Personne:\n",
    "\n",
    "    def __init__(self, nom, prenom, naissance):\n",
    "        self.nom = nom\n",
    "        self.prenom = prenom\n",
    "        self.naissance = naissance\n",
    "\n",
    "    def affiche(self):\n",
    "        print('Nom: ', self.nom, 'Prenom: ', self.prenom, 'Date de naissance: ', self.naissance.ToString())"
   ]
  },
  {
   "cell_type": "code",
   "execution_count": 27,
   "metadata": {},
   "outputs": [],
   "source": [
    "class Employee(Personne):\n",
    "\n",
    "    def __init__(self, nom, prenom, naissance, salaire):\n",
    "        Personne.__init__(self, nom, prenom, naissance)\n",
    "        self.salaire = salaire\n",
    "\n",
    "    def affiche(self):\n",
    "        Personne.affiche(self)\n",
    "        print('Salaire: ', round(self.salaire, 2))"
   ]
  },
  {
   "cell_type": "code",
   "execution_count": 28,
   "metadata": {},
   "outputs": [],
   "source": [
    "class Chef(Employee):\n",
    "\n",
    "    def __init__(self, nom, prenom, naissance, salaire, service):\n",
    "        Employee.__init__(self, nom, prenom, naissance, salaire)\n",
    "        self.service = service\n",
    "\n",
    "    def affiche(self):\n",
    "        Employee.affiche(self)\n",
    "        print('Service: ', self.service)"
   ]
  },
  {
   "cell_type": "code",
   "execution_count": 30,
   "metadata": {},
   "outputs": [
    {
     "name": "stdout",
     "output_type": "stream",
     "text": [
      "('Nom: ', 'Azzeddine', 'Prenom: ', 'GAZOU', 'Date de naissance: ', '04 / 11 / 1997')\n",
      "('Nom: ', 'Azzeddine', 'Prenom: ', 'GAZOU', 'Date de naissance: ', '04 / 11 / 199')\n",
      "('Salaire: ', 7865.55)\n",
      "('Nom: ', 'Azzeddine', 'Prenom: ', 'GAZOU', 'Date de naissance: ', '01 / 07 / 1988')\n",
      "('Salaire: ', 7865.55)\n",
      "('Service: ', 'Developpeur web junior')\n"
     ]
    }
   ],
   "source": [
    "P = Personne('Azzeddine', 'GAZOU', DateDeNaissance(4, 11, 1997))\n",
    "P.affiche()\n",
    "E = Employee('Azzeddine', 'GAZOU', DateDeNaissance(4, 11, 199), 7865.548)\n",
    "E.affiche()\n",
    "C = Chef('Azzeddine', 'GAZOU', DateDeNaissance(1, 7, 1988), 7865.548, 'Developpeur web junior')\n",
    "C.affiche()"
   ]
  },
  {
   "cell_type": "code",
   "execution_count": null,
   "metadata": {},
   "outputs": [],
   "source": []
  }
 ],
 "metadata": {
  "kernelspec": {
   "display_name": "Python 2",
   "language": "python",
   "name": "python2"
  },
  "language_info": {
   "codemirror_mode": {
    "name": "ipython",
    "version": 2
   },
   "file_extension": ".py",
   "mimetype": "text/x-python",
   "name": "python",
   "nbconvert_exporter": "python",
   "pygments_lexer": "ipython2",
   "version": "2.7.17"
  }
 },
 "nbformat": 4,
 "nbformat_minor": 2
}
